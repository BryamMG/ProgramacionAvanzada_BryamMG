{
 "cells": [
  {
   "cell_type": "markdown",
   "id": "11438ff3-7b64-4dad-af5a-235a8f069a61",
   "metadata": {},
   "source": [
    "# Evaluación de Métodos de Ordenamiento"
   ]
  },
  {
   "cell_type": "code",
   "execution_count": 3,
   "id": "788a272f-73f3-4133-8a4d-a4225b68bf07",
   "metadata": {},
   "outputs": [
    {
     "name": "stdout",
     "output_type": "stream",
     "text": [
      "Comparación de tiempos de ejecución:\n",
      "\n",
      "Tamaño de la lista: 1000\n",
      "Método Burbuja: 0.087786 segundos\n",
      "QuickSort: 0.001994 segundos\n",
      "\n",
      "Tamaño de la lista: 5000\n",
      "Método Burbuja: 2.194103 segundos\n",
      "QuickSort: 0.010971 segundos\n",
      "\n",
      "Tamaño de la lista: 10000\n",
      "Método Burbuja: 11.929092 segundos\n",
      "QuickSort: 0.040949 segundos\n"
     ]
    }
   ],
   "source": [
    "import time  # Importamos el módulo time para medir el tiempo de ejecución\n",
    "import random  # Importamos random para generar listas de números aleatorios\n",
    "\n",
    "def metodo_burbuja(lista):\n",
    "    \"\"\"Implementación del método de ordenamiento Burbuja.\n",
    "    \n",
    "    Compara pares de elementos adyacentes y los intercambia si están en el orden incorrecto.\n",
    "    Este proceso se repite hasta que la lista esté completamente ordenada.\n",
    "    \"\"\"\n",
    "    n = len(lista)  # Longitud de la lista\n",
    "    for i in range(n):  # Recorremos toda la lista n veces\n",
    "        for j in range(0, n - i - 1):  # Iteramos hasta la parte no ordenada de la lista\n",
    "            if lista[j] > lista[j + 1]:  # Si el elemento actual es mayor que el siguiente, intercambiamos\n",
    "                lista[j], lista[j + 1] = lista[j + 1], lista[j]  # Intercambio de valores\n",
    "    return lista  # Retornamos la lista ordenada\n",
    "\n",
    "def quick_sort(lista):\n",
    "    \"\"\"Implementación del método de ordenamiento QuickSort.\n",
    "    \n",
    "    Divide la lista en sublistas más pequeñas alrededor de un pivote,\n",
    "    ordena las sublistas y las combina para obtener la lista ordenada.\n",
    "    \"\"\"\n",
    "    if len(lista) < 2:  # Si la lista tiene 1 o 0 elementos, ya está ordenada\n",
    "        return lista\n",
    "    else:\n",
    "        pivote = lista[-1]  # Elegimos el último elemento como pivote\n",
    "        menores = [x for x in lista[:-1] if x < pivote]  # Elementos menores al pivote\n",
    "        mayores = [x for x in lista[:-1] if x >= pivote]  # Elementos mayores o iguales al pivote\n",
    "        return quick_sort(menores) + [pivote] + quick_sort(mayores)  # Llamada recursiva y combinación\n",
    "\n",
    "def medir_tiempo(algoritmo, lista):\n",
    "    \"\"\"Mide el tiempo de ejecución de un algoritmo de ordenamiento.\n",
    "    \n",
    "    Crea una copia de la lista original para evitar modificarla y mide el tiempo\n",
    "    que toma el algoritmo en ordenar la lista.\n",
    "    \"\"\"\n",
    "    inicio = time.time()  # Guardamos el tiempo de inicio\n",
    "    resultado = algoritmo(lista.copy())  # Ejecutamos el algoritmo con una copia de la lista\n",
    "    fin = time.time()  # Guardamos el tiempo final\n",
    "    return fin - inicio  # Devolvemos el tiempo total transcurrido\n",
    "\n",
    "# Definimos los tamaños de las listas de prueba\n",
    "tamaños = [1000, 5000, 10000]\n",
    "resultados = {}  # Diccionario para almacenar los tiempos de ejecución\n",
    "\n",
    "# Ejecutamos las pruebas para cada tamaño de lista\n",
    "for n in tamaños:\n",
    "    # Generamos una lista de números aleatorios entre 0 y 10,000\n",
    "    lista_prueba = [random.randint(0, 10000) for _ in range(n)]\n",
    "    \n",
    "    # Medimos el tiempo de ejecución del método Burbuja\n",
    "    tiempo_burbuja = medir_tiempo(metodo_burbuja, lista_prueba)\n",
    "    \n",
    "    # Medimos el tiempo de ejecución del método QuickSort\n",
    "    tiempo_quick = medir_tiempo(quick_sort, lista_prueba)\n",
    "    \n",
    "    # Guardamos los resultados en el diccionario\n",
    "    resultados[n] = {\n",
    "        \"Burbuja\": tiempo_burbuja,\n",
    "        \"QuickSort\": tiempo_quick\n",
    "    }\n",
    "\n",
    "# Imprimimos los resultados comparativos\n",
    "print(\"Comparación de tiempos de ejecución:\")\n",
    "for tamaño, tiempos in resultados.items():\n",
    "    print(f\"\\nTamaño de la lista: {tamaño}\")\n",
    "    print(f\"Método Burbuja: {tiempos['Burbuja']:.6f} segundos\")\n",
    "    print(f\"QuickSort: {tiempos['QuickSort']:.6f} segundos\")\n"
   ]
  },
  {
   "cell_type": "code",
   "execution_count": null,
   "id": "5830f488-a40d-4a55-9e67-523ed4e251de",
   "metadata": {},
   "outputs": [],
   "source": []
  }
 ],
 "metadata": {
  "kernelspec": {
   "display_name": "Python 3 (ipykernel)",
   "language": "python",
   "name": "python3"
  },
  "language_info": {
   "codemirror_mode": {
    "name": "ipython",
    "version": 3
   },
   "file_extension": ".py",
   "mimetype": "text/x-python",
   "name": "python",
   "nbconvert_exporter": "python",
   "pygments_lexer": "ipython3",
   "version": "3.12.7"
  }
 },
 "nbformat": 4,
 "nbformat_minor": 5
}
