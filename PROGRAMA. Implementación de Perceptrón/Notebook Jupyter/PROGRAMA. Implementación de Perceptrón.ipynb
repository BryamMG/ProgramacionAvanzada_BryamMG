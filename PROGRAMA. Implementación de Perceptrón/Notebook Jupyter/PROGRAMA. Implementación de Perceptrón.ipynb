{
 "cells": [
  {
   "cell_type": "markdown",
   "id": "be1fc129-2619-4178-ae7c-fcf6bd8d2ef6",
   "metadata": {},
   "source": [
    "# PROGRAMA. Implementación de Perceptrón"
   ]
  },
  {
   "cell_type": "markdown",
   "id": "676af3ca-c42f-40dc-bd86-f0a4ebebe948",
   "metadata": {},
   "source": [
    "## Objetivo\n",
    "\n",
    "Implementar y entrenar un perceptrón en Python que permita clasificar solicitudes de préstamo en aprobadas (1) o rechazadas (0), en función de variables financieras relevantes. Se busca reforzar el conocimiento en aprendizaje supervisado, el ajuste de pesos en redes neuronales simples y la implementación de modelos de clasificación binaria."
   ]
  },
  {
   "cell_type": "markdown",
   "id": "8caacc92-f9bb-4795-9d45-23c3e9e51206",
   "metadata": {},
   "source": [
    "## Problema a resolver\n",
    "\n",
    "Una institución financiera desea automatizar la clasificación de solicitudes de préstamo, utilizando un perceptrón que evalúe cuatro factores clave para tomar decisiones:\n",
    "* Puntaje de crédito: Valor numérico (por ejemplo, entre 300 y 850).\n",
    "* Ingresos mensuales: Expresado en miles de pesos.\n",
    "* Monto del préstamo solicitado: Expresado en miles de pesos.\n",
    "* Relación deuda/ingresos: Valor decimal (por ejemplo, 0.2, 0.5, etc.).\n",
    "* La institución proporciona un conjunto de datos históricos con ejemplos de solicitudes aprobadas y rechazadas. El perceptrón debe aprender a clasificar correctamente cada solicitud."
   ]
  },
  {
   "cell_type": "markdown",
   "id": "9bf7d520-5242-4351-8b29-b6aca3e359fa",
   "metadata": {},
   "source": [
    "## Tabla de datos\n",
    "\n",
    "| Puntaje de Crédito | Ingresos Mensuales | Monto del Préstamo | Relación Deuda/Ingresos | Aprobado (1) / Rechazado (0) |\n",
    "|:------------------:|:-----------------:|:------------------:|:----------------------:|:---------------------------:|\n",
    "|        750        |        5.0        |        20.0       |          0.3          |             1             |\n",
    "|        600        |        3.0        |        15.0       |          0.6          |             0             |\n",
    "|        680        |        4.0        |        10.0       |          0.4          |             1             |\n",
    "|        550        |        2.5        |         8.0       |          0.7          |             0             |\n",
    "|        800        |        6.0        |        25.0       |          0.2          |             1             |"
   ]
  },
  {
   "cell_type": "code",
   "execution_count": 18,
   "id": "68bcdfb9-acaa-4a47-8d6d-55dc75e25c46",
   "metadata": {},
   "outputs": [],
   "source": [
    "import numpy as np\n",
    "\n",
    "# Datos de entrenamiento: [Puntaje de crédito, Años en el trabajo, Monto del préstamo, Ratio deuda/ingreso]\n",
    "X_original = np.array([\n",
    "    [750, 5.0, 20.0, 0.3],\n",
    "    [600, 3.0, 15.0, 0.6],\n",
    "    [680, 4.0, 10.0, 0.4],\n",
    "    [550, 2.5, 8.0, 0.7],\n",
    "    [800, 6.0, 25.0, 0.2]\n",
    "])\n",
    "\n",
    "# Salidas esperadas (1 = Aprobado, 0 = Rechazado)\n",
    "y = np.array([1, 0, 1, 0, 1])"
   ]
  },
  {
   "cell_type": "code",
   "execution_count": 19,
   "id": "06b5d52a-d8b7-45d5-af22-e1862a57c922",
   "metadata": {},
   "outputs": [],
   "source": [
    "# Normalización automática\n",
    "X_min = X_original.min(axis=0)\n",
    "X_max = X_original.max(axis=0)\n",
    "X = (X_original - X_min) / (X_max - X_min)"
   ]
  },
  {
   "cell_type": "code",
   "execution_count": 20,
   "id": "c61cf6af-8185-47f6-99d0-19143e97409b",
   "metadata": {},
   "outputs": [],
   "source": [
    "# Hiperparámetros\n",
    "learning_rate = 0.1\n",
    "epochs = 10  \n"
   ]
  },
  {
   "cell_type": "code",
   "execution_count": 21,
   "id": "5a8b1002-7589-43c8-99ba-523ec5a134c0",
   "metadata": {},
   "outputs": [],
   "source": [
    "# Inicialización de pesos y bias en ceros para estabilidad\n",
    "weights = np.zeros(X.shape[1])\n",
    "bias = 0"
   ]
  },
  {
   "cell_type": "code",
   "execution_count": 22,
   "id": "0a9c158a-cf73-4388-a4f5-6d6773478296",
   "metadata": {},
   "outputs": [
    {
     "name": "stdout",
     "output_type": "stream",
     "text": [
      "\n",
      "Época 1:\n",
      "  Muestra 1: Entrada [0.8        0.71428571 0.70588235 0.2       ], Esperado 1, Predicción 1, Error 0\n",
      "  Muestra 2: Entrada [0.2        0.14285714 0.41176471 0.8       ], Esperado 0, Predicción 1, Error -1\n",
      "  Muestra 3: Entrada [0.52       0.42857143 0.11764706 0.4       ], Esperado 1, Predicción 0, Error 1\n",
      "  Muestra 4: Entrada [0. 0. 0. 1.], Esperado 0, Predicción 0, Error 0\n",
      "  Muestra 5: Entrada [1. 1. 1. 0.], Esperado 1, Predicción 1, Error 0\n",
      "  Pesos actualizados: [ 0.032       0.02857143 -0.02941176 -0.04      ], Bias actualizado: 0.0\n",
      "\n",
      "Época 2:\n",
      "  Muestra 1: Entrada [0.8        0.71428571 0.70588235 0.2       ], Esperado 1, Predicción 1, Error 0\n",
      "  Muestra 2: Entrada [0.2        0.14285714 0.41176471 0.8       ], Esperado 0, Predicción 0, Error 0\n",
      "  Muestra 3: Entrada [0.52       0.42857143 0.11764706 0.4       ], Esperado 1, Predicción 1, Error 0\n",
      "  Muestra 4: Entrada [0. 0. 0. 1.], Esperado 0, Predicción 0, Error 0\n",
      "  Muestra 5: Entrada [1. 1. 1. 0.], Esperado 1, Predicción 1, Error 0\n",
      "  Pesos actualizados: [ 0.032       0.02857143 -0.02941176 -0.04      ], Bias actualizado: 0.0\n",
      "\n",
      "Época 3:\n",
      "  Muestra 1: Entrada [0.8        0.71428571 0.70588235 0.2       ], Esperado 1, Predicción 1, Error 0\n",
      "  Muestra 2: Entrada [0.2        0.14285714 0.41176471 0.8       ], Esperado 0, Predicción 0, Error 0\n",
      "  Muestra 3: Entrada [0.52       0.42857143 0.11764706 0.4       ], Esperado 1, Predicción 1, Error 0\n",
      "  Muestra 4: Entrada [0. 0. 0. 1.], Esperado 0, Predicción 0, Error 0\n",
      "  Muestra 5: Entrada [1. 1. 1. 0.], Esperado 1, Predicción 1, Error 0\n",
      "  Pesos actualizados: [ 0.032       0.02857143 -0.02941176 -0.04      ], Bias actualizado: 0.0\n",
      "\n",
      "Época 4:\n",
      "  Muestra 1: Entrada [0.8        0.71428571 0.70588235 0.2       ], Esperado 1, Predicción 1, Error 0\n",
      "  Muestra 2: Entrada [0.2        0.14285714 0.41176471 0.8       ], Esperado 0, Predicción 0, Error 0\n",
      "  Muestra 3: Entrada [0.52       0.42857143 0.11764706 0.4       ], Esperado 1, Predicción 1, Error 0\n",
      "  Muestra 4: Entrada [0. 0. 0. 1.], Esperado 0, Predicción 0, Error 0\n",
      "  Muestra 5: Entrada [1. 1. 1. 0.], Esperado 1, Predicción 1, Error 0\n",
      "  Pesos actualizados: [ 0.032       0.02857143 -0.02941176 -0.04      ], Bias actualizado: 0.0\n",
      "\n",
      "Época 5:\n",
      "  Muestra 1: Entrada [0.8        0.71428571 0.70588235 0.2       ], Esperado 1, Predicción 1, Error 0\n",
      "  Muestra 2: Entrada [0.2        0.14285714 0.41176471 0.8       ], Esperado 0, Predicción 0, Error 0\n",
      "  Muestra 3: Entrada [0.52       0.42857143 0.11764706 0.4       ], Esperado 1, Predicción 1, Error 0\n",
      "  Muestra 4: Entrada [0. 0. 0. 1.], Esperado 0, Predicción 0, Error 0\n",
      "  Muestra 5: Entrada [1. 1. 1. 0.], Esperado 1, Predicción 1, Error 0\n",
      "  Pesos actualizados: [ 0.032       0.02857143 -0.02941176 -0.04      ], Bias actualizado: 0.0\n",
      "\n",
      "Época 6:\n",
      "  Muestra 1: Entrada [0.8        0.71428571 0.70588235 0.2       ], Esperado 1, Predicción 1, Error 0\n",
      "  Muestra 2: Entrada [0.2        0.14285714 0.41176471 0.8       ], Esperado 0, Predicción 0, Error 0\n",
      "  Muestra 3: Entrada [0.52       0.42857143 0.11764706 0.4       ], Esperado 1, Predicción 1, Error 0\n",
      "  Muestra 4: Entrada [0. 0. 0. 1.], Esperado 0, Predicción 0, Error 0\n",
      "  Muestra 5: Entrada [1. 1. 1. 0.], Esperado 1, Predicción 1, Error 0\n",
      "  Pesos actualizados: [ 0.032       0.02857143 -0.02941176 -0.04      ], Bias actualizado: 0.0\n",
      "\n",
      "Época 7:\n",
      "  Muestra 1: Entrada [0.8        0.71428571 0.70588235 0.2       ], Esperado 1, Predicción 1, Error 0\n",
      "  Muestra 2: Entrada [0.2        0.14285714 0.41176471 0.8       ], Esperado 0, Predicción 0, Error 0\n",
      "  Muestra 3: Entrada [0.52       0.42857143 0.11764706 0.4       ], Esperado 1, Predicción 1, Error 0\n",
      "  Muestra 4: Entrada [0. 0. 0. 1.], Esperado 0, Predicción 0, Error 0\n",
      "  Muestra 5: Entrada [1. 1. 1. 0.], Esperado 1, Predicción 1, Error 0\n",
      "  Pesos actualizados: [ 0.032       0.02857143 -0.02941176 -0.04      ], Bias actualizado: 0.0\n",
      "\n",
      "Época 8:\n",
      "  Muestra 1: Entrada [0.8        0.71428571 0.70588235 0.2       ], Esperado 1, Predicción 1, Error 0\n",
      "  Muestra 2: Entrada [0.2        0.14285714 0.41176471 0.8       ], Esperado 0, Predicción 0, Error 0\n",
      "  Muestra 3: Entrada [0.52       0.42857143 0.11764706 0.4       ], Esperado 1, Predicción 1, Error 0\n",
      "  Muestra 4: Entrada [0. 0. 0. 1.], Esperado 0, Predicción 0, Error 0\n",
      "  Muestra 5: Entrada [1. 1. 1. 0.], Esperado 1, Predicción 1, Error 0\n",
      "  Pesos actualizados: [ 0.032       0.02857143 -0.02941176 -0.04      ], Bias actualizado: 0.0\n",
      "\n",
      "Época 9:\n",
      "  Muestra 1: Entrada [0.8        0.71428571 0.70588235 0.2       ], Esperado 1, Predicción 1, Error 0\n",
      "  Muestra 2: Entrada [0.2        0.14285714 0.41176471 0.8       ], Esperado 0, Predicción 0, Error 0\n",
      "  Muestra 3: Entrada [0.52       0.42857143 0.11764706 0.4       ], Esperado 1, Predicción 1, Error 0\n",
      "  Muestra 4: Entrada [0. 0. 0. 1.], Esperado 0, Predicción 0, Error 0\n",
      "  Muestra 5: Entrada [1. 1. 1. 0.], Esperado 1, Predicción 1, Error 0\n",
      "  Pesos actualizados: [ 0.032       0.02857143 -0.02941176 -0.04      ], Bias actualizado: 0.0\n",
      "\n",
      "Época 10:\n",
      "  Muestra 1: Entrada [0.8        0.71428571 0.70588235 0.2       ], Esperado 1, Predicción 1, Error 0\n",
      "  Muestra 2: Entrada [0.2        0.14285714 0.41176471 0.8       ], Esperado 0, Predicción 0, Error 0\n",
      "  Muestra 3: Entrada [0.52       0.42857143 0.11764706 0.4       ], Esperado 1, Predicción 1, Error 0\n",
      "  Muestra 4: Entrada [0. 0. 0. 1.], Esperado 0, Predicción 0, Error 0\n",
      "  Muestra 5: Entrada [1. 1. 1. 0.], Esperado 1, Predicción 1, Error 0\n",
      "  Pesos actualizados: [ 0.032       0.02857143 -0.02941176 -0.04      ], Bias actualizado: 0.0\n",
      "\n",
      "El Préstamo: [0.6        0.57142857 0.58823529 0.3       ] = Fue Aprobado\n"
     ]
    }
   ],
   "source": [
    "# Función de activación (escalón)\n",
    "def activation_function(x):\n",
    "    return np.where(x >= 0, 1, 0)\n",
    "\n",
    "# Entrenamiento del perceptrón\n",
    "for epoch in range(epochs):\n",
    "    print(f\"\\nÉpoca {epoch + 1}:\")\n",
    "    for i in range(len(X)):\n",
    "        linear_output = np.dot(X[i], weights) + bias\n",
    "        predicted_output = activation_function(linear_output)\n",
    "        error = y[i] - predicted_output\n",
    "\n",
    "        # Actualización de pesos y bias\n",
    "        weights += learning_rate * error * X[i]\n",
    "        bias += learning_rate * error\n",
    "\n",
    "        # Imprimir iteraciones por muestra\n",
    "        print(f\"  Muestra {i + 1}: Entrada {X[i]}, Esperado {y[i]}, Predicción {predicted_output}, Error {error}\")\n",
    "    \n",
    "    # Imprimir pesos y bias al final de cada época\n",
    "    print(f\"  Pesos actualizados: {weights}, Bias actualizado: {bias}\")\n",
    "\n",
    "# Evaluación con un nuevo caso de solicitud de préstamo\n",
    "nuevo_dato = np.array([700, 4.5, 18.0, 0.35])  \n",
    "nuevo_dato = (nuevo_dato - X_min) / (X_max - X_min)  # Normalización\n",
    "\n",
    "# Predicción\n",
    "salida = activation_function(np.dot(nuevo_dato, weights) + bias)\n",
    "print(f\"\\nEl Préstamo: {nuevo_dato} = {'Fue Aprobado' if salida == 1 else 'Fue Rechazado'}\")"
   ]
  }
 ],
 "metadata": {
  "kernelspec": {
   "display_name": "Python 3 (ipykernel)",
   "language": "python",
   "name": "python3"
  },
  "language_info": {
   "codemirror_mode": {
    "name": "ipython",
    "version": 3
   },
   "file_extension": ".py",
   "mimetype": "text/x-python",
   "name": "python",
   "nbconvert_exporter": "python",
   "pygments_lexer": "ipython3",
   "version": "3.12.7"
  }
 },
 "nbformat": 4,
 "nbformat_minor": 5
}
